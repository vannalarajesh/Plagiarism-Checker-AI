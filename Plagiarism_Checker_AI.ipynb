{
 "cells": [
  {
   "cell_type": "code",
   "execution_count": 3,
   "id": "db9e5aea",
   "metadata": {},
   "outputs": [
    {
     "name": "stderr",
     "output_type": "stream",
     "text": [
      "D:\\Anaconda\\lib\\site-packages\\scipy\\spatial\\distance.py:620: RuntimeWarning: invalid value encountered in double_scalars\n",
      "  dist = 1.0 - uv / np.sqrt(uu * vv)\n"
     ]
    },
    {
     "name": "stdout",
     "output_type": "stream",
     "text": [
      "Optimized Model Accuracy: 0.6292\n",
      "Similarity Score: 0.4743\n",
      "Prediction: Paraphrased\n"
     ]
    }
   ],
   "source": [
    "import pandas as pd\n",
    "import re\n",
    "import numpy as np\n",
    "from sklearn.feature_extraction.text import HashingVectorizer\n",
    "from sklearn.metrics import accuracy_score\n",
    "from scipy.spatial.distance import cosine\n",
    "\n",
    "df = pd.read_csv(\"dataset.txt\", delimiter=\"\\t\", header=None, names=[\"text1\", \"text2\", \"label\"])\n",
    "df.fillna(\"\", inplace=True)\n",
    "df['label'] = df['label'].astype(int)\n",
    "\n",
    "def fast_preprocess(text):\n",
    "    text = text.lower()\n",
    "    text = re.sub(r'[^a-z0-9\\s]', '', text)\n",
    "    return \" \".join(text.split())  \n",
    "\n",
    "df['processed_text1'] = df['text1'].apply(fast_preprocess)\n",
    "df['processed_text2'] = df['text2'].apply(fast_preprocess)\n",
    "\n",
    "vectorizer = HashingVectorizer(n_features=100000, alternate_sign=False)\n",
    "\n",
    "vec1 = vectorizer.transform(df['processed_text1'])\n",
    "vec2 = vectorizer.transform(df['processed_text2'])\n",
    "\n",
    "similarity_scores = np.array([\n",
    "    1 - cosine(v1.toarray().flatten(), v2.toarray().flatten()) \n",
    "    for v1, v2 in zip(vec1, vec2)\n",
    "])\n",
    "\n",
    "df['similarity_score'] = similarity_scores\n",
    "\n",
    "optimal_threshold = np.percentile(similarity_scores, 50)\n",
    "df['predicted_label'] = (df['similarity_score'] >= optimal_threshold).astype(int)\n",
    "\n",
    "accuracy = accuracy_score(df['label'], df['predicted_label'])\n",
    "print(f\"Optimized Model Accuracy: {accuracy:.4f}\")\n",
    "\n",
    "text1 = input()\n",
    "text2 = input()\n",
    "processed_text1 = fast_preprocess(text1)\n",
    "processed_text2 = fast_preprocess(text2)\n",
    "\n",
    "vec_texts = vectorizer.transform([processed_text1, processed_text2])\n",
    "similarity = 1 - cosine(vec_texts[0].toarray().flatten(), vec_texts[1].toarray().flatten())\n",
    "\n",
    "print(f\"Similarity Score: {similarity:.4f}\")\n",
    "print(\"Prediction:\", \"Paraphrased\" if similarity >= optimal_threshold else \"Not Paraphrased\")\n"
   ]
  },
  {
   "cell_type": "code",
   "execution_count": null,
   "id": "097703e2",
   "metadata": {},
   "outputs": [],
   "source": []
  }
 ],
 "metadata": {
  "kernelspec": {
   "display_name": "Python 3 (ipykernel)",
   "language": "python",
   "name": "python3"
  },
  "language_info": {
   "codemirror_mode": {
    "name": "ipython",
    "version": 3
   },
   "file_extension": ".py",
   "mimetype": "text/x-python",
   "name": "python",
   "nbconvert_exporter": "python",
   "pygments_lexer": "ipython3",
   "version": "3.9.13"
  }
 },
 "nbformat": 4,
 "nbformat_minor": 5
}
